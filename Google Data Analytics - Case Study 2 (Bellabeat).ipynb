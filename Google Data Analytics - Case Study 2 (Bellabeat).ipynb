{
 "cells": [
  {
   "cell_type": "code",
   "execution_count": 1,
   "id": "82c8f8d1",
   "metadata": {},
   "outputs": [],
   "source": [
    "# Import packages\n",
    "from pyspark.sql import SparkSession\n",
    "from pyspark.sql.types import *\n",
    "from pyspark.sql.functions import *\n",
    "spark = SparkSession.builder.getOrCreate()"
   ]
  },
  {
   "cell_type": "code",
   "execution_count": 2,
   "id": "08b04851",
   "metadata": {},
   "outputs": [
    {
     "name": "stdout",
     "output_type": "stream",
     "text": [
      "(940, 15)\n"
     ]
    }
   ],
   "source": [
    "# Read csv files\n",
    "ds = spark.read.csv(r\"C:\\Users\\jeffr\\Documents\\Google Data Analytics\\Case Study 2\\Data - Original\\Fitabase Data 4.12.16-5.12.16\\dailyActivity_merged.csv\", header=True)\n",
    "\n",
    "# Print number of records and columns\n",
    "print((ds.count(), len(ds.columns)))"
   ]
  },
  {
   "cell_type": "code",
   "execution_count": 3,
   "id": "86f32ee4",
   "metadata": {},
   "outputs": [
    {
     "name": "stdout",
     "output_type": "stream",
     "text": [
      "+----------+------------+----------+-------------+---------------+------------------------+------------------+------------------------+-------------------+-----------------------+-----------------+-------------------+--------------------+----------------+--------+\n",
      "|        Id|ActivityDate|TotalSteps|TotalDistance|TrackerDistance|LoggedActivitiesDistance|VeryActiveDistance|ModeratelyActiveDistance|LightActiveDistance|SedentaryActiveDistance|VeryActiveMinutes|FairlyActiveMinutes|LightlyActiveMinutes|SedentaryMinutes|Calories|\n",
      "+----------+------------+----------+-------------+---------------+------------------------+------------------+------------------------+-------------------+-----------------------+-----------------+-------------------+--------------------+----------------+--------+\n",
      "|1503960366|  2016-04-12|     13162|          8.5|            8.5|                       0|       1.879999995|             0.550000012|        6.059999943|                      0|               25|                 13|                 328|             728|    1985|\n",
      "|1503960366|  2016-04-13|     10735|   6.96999979|     6.96999979|                       0|       1.570000052|             0.689999998|        4.710000038|                      0|               21|                 19|                 217|             776|    1797|\n",
      "|1503960366|  2016-04-14|     10460|  6.739999771|    6.739999771|                       0|       2.440000057|             0.400000006|        3.910000086|                      0|               30|                 11|                 181|            1218|    1776|\n",
      "|1503960366|  2016-04-15|      9762|   6.28000021|     6.28000021|                       0|       2.140000105|              1.25999999|        2.829999924|                      0|               29|                 34|                 209|             726|    1745|\n",
      "|1503960366|  2016-04-16|     12669|  8.159999847|    8.159999847|                       0|       2.710000038|             0.409999996|        5.039999962|                      0|               36|                 10|                 221|             773|    1863|\n",
      "+----------+------------+----------+-------------+---------------+------------------------+------------------+------------------------+-------------------+-----------------------+-----------------+-------------------+--------------------+----------------+--------+\n",
      "only showing top 5 rows\n",
      "\n"
     ]
    }
   ],
   "source": [
    "# Show the first 5 rows of data\n",
    "ds.show(5)"
   ]
  },
  {
   "cell_type": "code",
   "execution_count": 4,
   "id": "76017482",
   "metadata": {},
   "outputs": [
    {
     "name": "stdout",
     "output_type": "stream",
     "text": [
      "root\n",
      " |-- Id: string (nullable = true)\n",
      " |-- ActivityDate: string (nullable = true)\n",
      " |-- TotalSteps: string (nullable = true)\n",
      " |-- TotalDistance: string (nullable = true)\n",
      " |-- TrackerDistance: string (nullable = true)\n",
      " |-- LoggedActivitiesDistance: string (nullable = true)\n",
      " |-- VeryActiveDistance: string (nullable = true)\n",
      " |-- ModeratelyActiveDistance: string (nullable = true)\n",
      " |-- LightActiveDistance: string (nullable = true)\n",
      " |-- SedentaryActiveDistance: string (nullable = true)\n",
      " |-- VeryActiveMinutes: string (nullable = true)\n",
      " |-- FairlyActiveMinutes: string (nullable = true)\n",
      " |-- LightlyActiveMinutes: string (nullable = true)\n",
      " |-- SedentaryMinutes: string (nullable = true)\n",
      " |-- Calories: string (nullable = true)\n",
      "\n"
     ]
    }
   ],
   "source": [
    "# Get list of columns and data types\n",
    "ds.printSchema()"
   ]
  },
  {
   "cell_type": "code",
   "execution_count": 5,
   "id": "36070ef9",
   "metadata": {},
   "outputs": [
    {
     "name": "stdout",
     "output_type": "stream",
     "text": [
      "root\n",
      " |-- Id: string (nullable = true)\n",
      " |-- ActivityDate: string (nullable = true)\n",
      " |-- TotalSteps: integer (nullable = true)\n",
      " |-- TotalDistance: float (nullable = true)\n",
      " |-- TrackerDistance: float (nullable = true)\n",
      " |-- LoggedActivitiesDistance: float (nullable = true)\n",
      " |-- VeryActiveDistance: float (nullable = true)\n",
      " |-- ModeratelyActiveDistance: float (nullable = true)\n",
      " |-- LightActiveDistance: float (nullable = true)\n",
      " |-- SedentaryActiveDistance: float (nullable = true)\n",
      " |-- VeryActiveMinutes: integer (nullable = true)\n",
      " |-- FairlyActiveMinutes: integer (nullable = true)\n",
      " |-- LightlyActiveMinutes: integer (nullable = true)\n",
      " |-- SedentaryMinutes: integer (nullable = true)\n",
      " |-- Calories: integer (nullable = true)\n",
      " |-- date: date (nullable = true)\n",
      "\n"
     ]
    }
   ],
   "source": [
    "# Format columns to correct data type\n",
    "ds = ds.withColumn(\"TotalSteps\",col(\"TotalSteps\").cast(IntegerType())) \\\n",
    "    .withColumn(\"TotalDistance\",col(\"TotalDistance\").cast(FloatType())) \\\n",
    "    .withColumn(\"TrackerDistance\",col(\"TrackerDistance\").cast(FloatType())) \\\n",
    "    .withColumn(\"LoggedActivitiesDistance\",col(\"LoggedActivitiesDistance\").cast(FloatType())) \\\n",
    "    .withColumn(\"VeryActiveDistance\",col(\"VeryActiveDistance\").cast(FloatType())) \\\n",
    "    .withColumn(\"ModeratelyActiveDistance\",col(\"ModeratelyActiveDistance\").cast(FloatType())) \\\n",
    "    .withColumn(\"LightActiveDistance\",col(\"LightActiveDistance\").cast(FloatType())) \\\n",
    "    .withColumn(\"SedentaryActiveDistance\",col(\"SedentaryActiveDistance\").cast(FloatType())) \\\n",
    "    .withColumn(\"VeryActiveMinutes\",col(\"VeryActiveMinutes\").cast(IntegerType())) \\\n",
    "    .withColumn(\"FairlyActiveMinutes\",col(\"FairlyActiveMinutes\").cast(IntegerType())) \\\n",
    "    .withColumn(\"LightlyActiveMinutes\",col(\"LightlyActiveMinutes\").cast(IntegerType())) \\\n",
    "    .withColumn(\"SedentaryMinutes\",col(\"SedentaryMinutes\").cast(IntegerType())) \\\n",
    "    .withColumn(\"Calories\",col(\"Calories\").cast(IntegerType()))\n",
    "\n",
    "# Convert activity date from string to date format\n",
    "ds = ds.withColumn(\"date\",\n",
    "                 to_date(unix_timestamp(col(\"ActivityDate\"), \"yyyy-MM-dd\").cast(\"timestamp\")))\n",
    "\n",
    "# Verify reformatting was successful\n",
    "ds.printSchema()"
   ]
  },
  {
   "cell_type": "code",
   "execution_count": 6,
   "id": "ec6dd97f",
   "metadata": {},
   "outputs": [
    {
     "name": "stdout",
     "output_type": "stream",
     "text": [
      "+----------+------------+----------+-------------+---------------+------------------------+------------------+------------------------+-------------------+-----------------------+-----------------+-------------------+--------------------+----------------+--------+----------+\n",
      "|        Id|ActivityDate|TotalSteps|TotalDistance|TrackerDistance|LoggedActivitiesDistance|VeryActiveDistance|ModeratelyActiveDistance|LightActiveDistance|SedentaryActiveDistance|VeryActiveMinutes|FairlyActiveMinutes|LightlyActiveMinutes|SedentaryMinutes|Calories|      date|\n",
      "+----------+------------+----------+-------------+---------------+------------------------+------------------+------------------------+-------------------+-----------------------+-----------------+-------------------+--------------------+----------------+--------+----------+\n",
      "|1503960366|  2016-04-12|     13162|          8.5|            8.5|                     0.0|              1.88|                    0.55|               6.06|                    0.0|               25|                 13|                 328|             728|    1985|2016-04-12|\n",
      "|1503960366|  2016-04-13|     10735|         6.97|           6.97|                     0.0|              1.57|                    0.69|               4.71|                    0.0|               21|                 19|                 217|             776|    1797|2016-04-13|\n",
      "|1503960366|  2016-04-14|     10460|         6.74|           6.74|                     0.0|              2.44|                     0.4|               3.91|                    0.0|               30|                 11|                 181|            1218|    1776|2016-04-14|\n",
      "|1503960366|  2016-04-15|      9762|         6.28|           6.28|                     0.0|              2.14|                    1.26|               2.83|                    0.0|               29|                 34|                 209|             726|    1745|2016-04-15|\n",
      "|1503960366|  2016-04-16|     12669|         8.16|           8.16|                     0.0|              2.71|                    0.41|               5.04|                    0.0|               36|                 10|                 221|             773|    1863|2016-04-16|\n",
      "+----------+------------+----------+-------------+---------------+------------------------+------------------+------------------------+-------------------+-----------------------+-----------------+-------------------+--------------------+----------------+--------+----------+\n",
      "only showing top 5 rows\n",
      "\n"
     ]
    }
   ],
   "source": [
    "# Show first 5 rows\n",
    "ds.show(5)"
   ]
  },
  {
   "cell_type": "code",
   "execution_count": 7,
   "id": "f6f7587c",
   "metadata": {},
   "outputs": [
    {
     "data": {
      "text/plain": [
       "940"
      ]
     },
     "execution_count": 7,
     "metadata": {},
     "output_type": "execute_result"
    }
   ],
   "source": [
    "# Remove duplicate rows and count all rows again\n",
    "ds.dropDuplicates().count()"
   ]
  },
  {
   "cell_type": "code",
   "execution_count": 8,
   "id": "e4fc7580",
   "metadata": {},
   "outputs": [
    {
     "name": "stdout",
     "output_type": "stream",
     "text": [
      "+---+------------+----------+-------------+---------------+------------------------+------------------+------------------------+-------------------+-----------------------+-----------------+-------------------+--------------------+----------------+--------+----+\n",
      "| Id|ActivityDate|TotalSteps|TotalDistance|TrackerDistance|LoggedActivitiesDistance|VeryActiveDistance|ModeratelyActiveDistance|LightActiveDistance|SedentaryActiveDistance|VeryActiveMinutes|FairlyActiveMinutes|LightlyActiveMinutes|SedentaryMinutes|Calories|date|\n",
      "+---+------------+----------+-------------+---------------+------------------------+------------------+------------------------+-------------------+-----------------------+-----------------+-------------------+--------------------+----------------+--------+----+\n",
      "|  0|           0|         0|            0|              0|                       0|                 0|                       0|                  0|                      0|                0|                  0|                   0|               0|       0|   0|\n",
      "+---+------------+----------+-------------+---------------+------------------------+------------------+------------------------+-------------------+-----------------------+-----------------+-------------------+--------------------+----------------+--------+----+\n",
      "\n"
     ]
    }
   ],
   "source": [
    "# Verify no instances of null values\n",
    "ds.select([count(when(col(c).isNull(), c)).alias(c) for c in ds.columns]).show()"
   ]
  },
  {
   "cell_type": "code",
   "execution_count": 9,
   "id": "fb748603",
   "metadata": {},
   "outputs": [
    {
     "name": "stdout",
     "output_type": "stream",
     "text": [
      "+------------------+\n",
      "|count(DISTINCT Id)|\n",
      "+------------------+\n",
      "|                33|\n",
      "+------------------+\n",
      "\n"
     ]
    }
   ],
   "source": [
    "# Count distinct Id to confirm there are only 30\n",
    "unique_id = ds.select(countDistinct(\"Id\"))\n",
    "unique_id.show()"
   ]
  },
  {
   "cell_type": "code",
   "execution_count": 10,
   "id": "bc48a87f",
   "metadata": {},
   "outputs": [
    {
     "name": "stdout",
     "output_type": "stream",
     "text": [
      "+----------+---------+\n",
      "|      date| week_day|\n",
      "+----------+---------+\n",
      "|2016-04-12|  Tuesday|\n",
      "|2016-04-13|Wednesday|\n",
      "|2016-04-14| Thursday|\n",
      "|2016-04-15|   Friday|\n",
      "|2016-04-16| Saturday|\n",
      "|2016-04-17|   Sunday|\n",
      "|2016-04-18|   Monday|\n",
      "|2016-04-19|  Tuesday|\n",
      "|2016-04-20|Wednesday|\n",
      "|2016-04-21| Thursday|\n",
      "+----------+---------+\n",
      "only showing top 10 rows\n",
      "\n"
     ]
    }
   ],
   "source": [
    "# Create new column for day of week\n",
    "ds = ds.withColumn(\"week_day\", date_format(col(\"date\"), \"EEEE\"))\n",
    "\n",
    "# Confirm calculation was successful\n",
    "ds.select(\"date\", \"week_day\").show(10)"
   ]
  },
  {
   "cell_type": "code",
   "execution_count": 12,
   "id": "648ac8f8",
   "metadata": {},
   "outputs": [
    {
     "name": "stdout",
     "output_type": "stream",
     "text": [
      "+----------+----------------+--------------------+-------------------+-----------------+-------------------+\n",
      "|        Id|SedentaryMinutes|LightlyActiveMinutes|FairlyActiveMinutes|VeryActiveMinutes|total_exercise_mins|\n",
      "+----------+----------------+--------------------+-------------------+-----------------+-------------------+\n",
      "|1503960366|             728|                 328|                 13|               25|               1094|\n",
      "|1503960366|             776|                 217|                 19|               21|               1033|\n",
      "|1503960366|            1218|                 181|                 11|               30|               1440|\n",
      "|1503960366|             726|                 209|                 34|               29|                998|\n",
      "|1503960366|             773|                 221|                 10|               36|               1040|\n",
      "|1503960366|             539|                 164|                 20|               38|                761|\n",
      "|1503960366|            1149|                 233|                 16|               42|               1440|\n",
      "|1503960366|             775|                 264|                 31|               50|               1120|\n",
      "|1503960366|             818|                 205|                 12|               28|               1063|\n",
      "|1503960366|             838|                 211|                  8|               19|               1076|\n",
      "+----------+----------------+--------------------+-------------------+-----------------+-------------------+\n",
      "only showing top 10 rows\n",
      "\n"
     ]
    }
   ],
   "source": [
    "# Create a column for total exercise minutes\n",
    "import pyspark.sql.functions as F\n",
    "ds = ds.withColumn(\"total_exercise_mins\", F.col(\"SedentaryMinutes\") + F.col(\"LightlyActiveMinutes\") + F.col(\"FairlyActiveMinutes\") + F.col(\"VeryActiveMinutes\"))\n",
    "\n",
    "ds.select(\"Id\", \"SedentaryMinutes\", \"LightlyActiveMinutes\", \"FairlyActiveMinutes\", \"VeryActiveMinutes\", \"total_exercise_mins\").show(10)"
   ]
  },
  {
   "cell_type": "code",
   "execution_count": 13,
   "id": "9f2983ee",
   "metadata": {},
   "outputs": [
    {
     "name": "stdout",
     "output_type": "stream",
     "text": [
      "+-------------------+--------------------+\n",
      "|total_exercise_mins|total_exercise_hours|\n",
      "+-------------------+--------------------+\n",
      "|               1094|                18.0|\n",
      "|               1033|                17.0|\n",
      "|               1440|                24.0|\n",
      "|                998|                17.0|\n",
      "|               1040|                17.0|\n",
      "|                761|                13.0|\n",
      "|               1440|                24.0|\n",
      "|               1120|                19.0|\n",
      "|               1063|                18.0|\n",
      "|               1076|                18.0|\n",
      "+-------------------+--------------------+\n",
      "only showing top 10 rows\n",
      "\n"
     ]
    }
   ],
   "source": [
    "# Convert total minutes to total hours\n",
    "ds = ds.withColumn(\"total_exercise_hours\", round(F.col(\"total_exercise_mins\") / 60))\n",
    "\n",
    "ds.select(\"total_exercise_mins\", \"total_exercise_hours\").show(10)"
   ]
  },
  {
   "cell_type": "code",
   "execution_count": 14,
   "id": "47d6358b",
   "metadata": {},
   "outputs": [
    {
     "name": "stdout",
     "output_type": "stream",
     "text": [
      "+---------+-----+\n",
      "| week_day|count|\n",
      "+---------+-----+\n",
      "|Wednesday|  150|\n",
      "| Thursday|  147|\n",
      "|  Tuesday|  152|\n",
      "|   Monday|  120|\n",
      "|   Friday|  126|\n",
      "|   Sunday|  121|\n",
      "| Saturday|  124|\n",
      "|     null|  940|\n",
      "+---------+-----+\n",
      "\n"
     ]
    }
   ],
   "source": [
    "# Frequency distribution of day of the week (null represents total)\n",
    "ds.cube('week_day').count().show()"
   ]
  },
  {
   "cell_type": "code",
   "execution_count": 15,
   "id": "b0ba6741",
   "metadata": {},
   "outputs": [
    {
     "name": "stdout",
     "output_type": "stream",
     "text": [
      "+-------+------------------+-----------------+--------------------+-----------------+\n",
      "|summary|        TotalSteps|    TotalDistance|total_exercise_hours|         calories|\n",
      "+-------+------------------+-----------------+--------------------+-----------------+\n",
      "|  count|               940|              940|                 940|              940|\n",
      "|   mean|7637.9106382978725|5.489702121915415|  20.319148936170212|2303.609574468085|\n",
      "| stddev| 5087.150741753412|3.924605908624869|  4.4322200255392525|718.1668621342561|\n",
      "|    min|                 0|              0.0|                 0.0|                0|\n",
      "|    25%|              3789|             2.62|                16.0|             1827|\n",
      "|    50%|              7399|             5.24|                24.0|             2133|\n",
      "|    75%|             10725|             7.71|                24.0|             2793|\n",
      "|    max|             36019|            28.03|                24.0|             4900|\n",
      "+-------+------------------+-----------------+--------------------+-----------------+\n",
      "\n"
     ]
    }
   ],
   "source": [
    "# View summary data\n",
    "ds.select('TotalSteps', 'TotalDistance', 'total_exercise_hours', 'calories').summary().show()"
   ]
  },
  {
   "cell_type": "code",
   "execution_count": 16,
   "id": "9ec7d1a8",
   "metadata": {},
   "outputs": [],
   "source": [
    "# Rename and drop columns for consistency\n",
    "df = ds.withColumnRenamed(\"Id\",\"id\") \\\n",
    "    .withColumnRenamed(\"TotalSteps\",\"total_steps\") \\\n",
    "    .withColumnRenamed(\"TotalDistance\",\"total_dist\") \\\n",
    "    .withColumnRenamed(\"TrackerDistance\",\"tracker_dist\") \\\n",
    "    .withColumnRenamed(\"LoggedActivitiesDistance\",\"logged_act_dist\") \\\n",
    "    .withColumnRenamed(\"VeryActiveDistance\",\"very_act_dist\") \\\n",
    "    .withColumnRenamed(\"ModeratelyActiveDistance\",\"moderately_act_dist\") \\\n",
    "    .withColumnRenamed(\"LightActiveDistance\",\"light_act_dist\") \\\n",
    "    .withColumnRenamed(\"SedentaryActiveDistance\",\"sedentary_act_mins\") \\\n",
    "    .withColumnRenamed(\"VeryActiveMinutes\",\"very_act_mins\") \\\n",
    "    .withColumnRenamed(\"FairlyActiveMinutes\",\"fairly_act_mins\") \\\n",
    "    .withColumnRenamed(\"LightlyActiveMinutes\",\"light_act_mins\") \\\n",
    "    .withColumnRenamed(\"SedentaryMinutes\",\"sedentary_mins\") \\\n",
    "    .withColumnRenamed(\"Calories\",\"calories\") \\\n",
    "    .drop(\"ActivityDate\")"
   ]
  },
  {
   "cell_type": "code",
   "execution_count": 17,
   "id": "591215dd",
   "metadata": {},
   "outputs": [],
   "source": [
    "from pandas import *\n",
    "\n",
    "# Export dataset as a .csv file\n",
    "df.toPandas().to_csv(r\"C:\\Users\\jeffr\\Documents\\Google Data Analytics\\Case Study 2\\bellabeat_cleaned.csv\")"
   ]
  }
 ],
 "metadata": {
  "kernelspec": {
   "display_name": "Python 3 (ipykernel)",
   "language": "python",
   "name": "python3"
  },
  "language_info": {
   "codemirror_mode": {
    "name": "ipython",
    "version": 3
   },
   "file_extension": ".py",
   "mimetype": "text/x-python",
   "name": "python",
   "nbconvert_exporter": "python",
   "pygments_lexer": "ipython3",
   "version": "3.9.7"
  }
 },
 "nbformat": 4,
 "nbformat_minor": 5
}
